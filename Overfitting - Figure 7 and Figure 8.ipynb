{
 "cells": [
  {
   "cell_type": "markdown",
   "metadata": {},
   "source": [
    "## Imports"
   ]
  },
  {
   "cell_type": "code",
   "execution_count": 1,
   "metadata": {
    "scrolled": true
   },
   "outputs": [
    {
     "name": "stderr",
     "output_type": "stream",
     "text": [
      "/Library/Frameworks/Python.framework/Versions/3.6/lib/python3.6/site-packages/tensorflow/python/framework/dtypes.py:526: FutureWarning: Passing (type, 1) or '1type' as a synonym of type is deprecated; in a future version of numpy, it will be understood as (type, (1,)) / '(1,)type'.\n",
      "  _np_qint8 = np.dtype([(\"qint8\", np.int8, 1)])\n",
      "/Library/Frameworks/Python.framework/Versions/3.6/lib/python3.6/site-packages/tensorflow/python/framework/dtypes.py:527: FutureWarning: Passing (type, 1) or '1type' as a synonym of type is deprecated; in a future version of numpy, it will be understood as (type, (1,)) / '(1,)type'.\n",
      "  _np_quint8 = np.dtype([(\"quint8\", np.uint8, 1)])\n",
      "/Library/Frameworks/Python.framework/Versions/3.6/lib/python3.6/site-packages/tensorflow/python/framework/dtypes.py:528: FutureWarning: Passing (type, 1) or '1type' as a synonym of type is deprecated; in a future version of numpy, it will be understood as (type, (1,)) / '(1,)type'.\n",
      "  _np_qint16 = np.dtype([(\"qint16\", np.int16, 1)])\n",
      "/Library/Frameworks/Python.framework/Versions/3.6/lib/python3.6/site-packages/tensorflow/python/framework/dtypes.py:529: FutureWarning: Passing (type, 1) or '1type' as a synonym of type is deprecated; in a future version of numpy, it will be understood as (type, (1,)) / '(1,)type'.\n",
      "  _np_quint16 = np.dtype([(\"quint16\", np.uint16, 1)])\n",
      "/Library/Frameworks/Python.framework/Versions/3.6/lib/python3.6/site-packages/tensorflow/python/framework/dtypes.py:530: FutureWarning: Passing (type, 1) or '1type' as a synonym of type is deprecated; in a future version of numpy, it will be understood as (type, (1,)) / '(1,)type'.\n",
      "  _np_qint32 = np.dtype([(\"qint32\", np.int32, 1)])\n",
      "/Library/Frameworks/Python.framework/Versions/3.6/lib/python3.6/site-packages/tensorflow/python/framework/dtypes.py:535: FutureWarning: Passing (type, 1) or '1type' as a synonym of type is deprecated; in a future version of numpy, it will be understood as (type, (1,)) / '(1,)type'.\n",
      "  np_resource = np.dtype([(\"resource\", np.ubyte, 1)])\n"
     ]
    },
    {
     "name": "stdout",
     "output_type": "stream",
     "text": [
      "\n",
      "WARNING: The TensorFlow contrib module will not be included in TensorFlow 2.0.\n",
      "For more information, please see:\n",
      "  * https://github.com/tensorflow/community/blob/master/rfcs/20180907-contrib-sunset.md\n",
      "  * https://github.com/tensorflow/addons\n",
      "If you depend on functionality not listed there, please file an issue.\n",
      "\n"
     ]
    }
   ],
   "source": [
    "import matplotlib.pyplot as plt\n",
    "import numpy as np\n",
    "import tensorflow as tf\n",
    "import math\n",
    "from tensorflow_probability import edward2 as ed\n",
    "%matplotlib inline"
   ]
  },
  {
   "cell_type": "markdown",
   "metadata": {},
   "source": [
    "# Configuration\n",
    "\n",
    "Now we define the learning method and whether there will be or not model miss-specification. \n",
    "\n"
   ]
  },
  {
   "cell_type": "code",
   "execution_count": 2,
   "metadata": {},
   "outputs": [],
   "source": [
    "## Learning Method\n",
    "# 0. MAP Inference \n",
    "# 1. Variational Inference\n",
    "# 2. PAC2-Varitional Inference, $\\rho(\\theta|D)\n",
    "# 3. PAC2-Varitional Inference, $\\rho_h(\\theta|D)\n",
    "\n",
    "LEARNING_METHOD = 3\n"
   ]
  },
  {
   "cell_type": "markdown",
   "metadata": {},
   "source": [
    "# Data Set\n",
    "\n",
    "In this first part, we present the data set used for this example."
   ]
  },
  {
   "cell_type": "code",
   "execution_count": 3,
   "metadata": {},
   "outputs": [
    {
     "data": {
      "image/png": "[encoded data removed]",
      "text/plain": [
       "<Figure size 432x288 with 1 Axes>"
      ]
     },
     "metadata": {
      "needs_background": "light"
     },
     "output_type": "display_data"
    }
   ],
   "source": [
    "# Set seeds for reproducibility\n",
    "np.random.seed(0)\n",
    "tf.set_random_seed(0)\n",
    "NSAMPLE = 25\n",
    "VAR=2.\n",
    "\n",
    "x_train = np.float32(np.random.uniform(-10.5, 10.5, (1, NSAMPLE))).T\n",
    "r_train = 1 + np.float32(np.random.normal(size=(NSAMPLE,1),scale=VAR))\n",
    "y_train = np.float32(x_train*1.0 + r_train*1.0)\n",
    "\n",
    "plt.scatter(x_train, y_train, marker='+', label='Training data')\n",
    "plt.ylim(-20,20)\n",
    "plt.xticks(np.arange(-10.5, 10.5, 4))\n",
    "plt.legend()\n",
    "plt.show()"
   ]
  },
  {
   "cell_type": "markdown",
   "metadata": {},
   "source": [
    "# Learning a Neural Network\n",
    "\n",
    "We now employ Tensorflow Probability and Edward 2 to define and make varitional inference over a Bayesian neural network. "
   ]
  },
  {
   "cell_type": "code",
   "execution_count": 4,
   "metadata": {},
   "outputs": [
    {
     "name": "stdout",
     "output_type": "stream",
     "text": [
      "WARNING:tensorflow:From /Library/Frameworks/Python.framework/Versions/3.6/lib/python3.6/site-packages/tensorflow/python/framework/op_def_library.py:263: colocate_with (from tensorflow.python.framework.ops) is deprecated and will be removed in a future version.\n",
      "Instructions for updating:\n",
      "Colocations handled automatically by placer.\n"
     ]
    }
   ],
   "source": [
    "NHIDDEN = 20\n",
    "\n",
    "def model(NHIDDEN, NSAMPLE):\n",
    "    W = ed.Normal(loc=tf.zeros([1, NHIDDEN]), scale=1., name=\"W\")\n",
    "    b = ed.Normal(loc=tf.zeros([1, NHIDDEN]), scale=1., name=\"b\")\n",
    "\n",
    "    W_out = ed.Normal(loc=tf.zeros([NHIDDEN, 1]), scale=1., name=\"W_out\")\n",
    "    b_out = ed.Normal(loc=tf.zeros([1, 1]), scale=1., name=\"b_out\")\n",
    "\n",
    "    x = ed.Normal(loc=tf.zeros([NSAMPLE, 1]), scale=1.0, name=\"x\")\n",
    "    hidden_layer = tf.nn.tanh(tf.matmul(x, W) + b)\n",
    "    out = tf.matmul(hidden_layer, W_out) + b_out\n",
    "    y = ed.Normal(loc=out, scale=0.01, name=\"y\")\n",
    "\n",
    "    return W, b, W_out, b_out, x, y\n",
    "\n",
    "\n",
    "def qmodel(NHIDDEN):\n",
    "    W_loc = tf.Variable(tf.random_normal([1, NHIDDEN], 0.0, 0.05, dtype=tf.float32))\n",
    "    b_loc = tf.Variable(tf.random_normal([1, NHIDDEN], 0.0, 0.05, dtype=tf.float32))\n",
    "\n",
    "    if LEARNING_METHOD==0:\n",
    "        W_scale = -25.\n",
    "        b_scale = -25.\n",
    "    else:\n",
    "        W_scale = tf.Variable(tf.random_normal([1, NHIDDEN], -10., stddev=0.05, dtype=tf.float32))\n",
    "        b_scale = tf.Variable(tf.random_normal([1, NHIDDEN], -10., stddev=0.05, dtype=tf.float32))\n",
    "\n",
    "    qW = ed.Normal(W_loc, scale=tf.nn.softplus(W_scale), name=\"W\")\n",
    "    qW_ = ed.Normal(W_loc, scale=tf.nn.softplus(W_scale), name=\"W\")\n",
    "\n",
    "    qb = ed.Normal(b_loc, scale=tf.nn.softplus(b_scale), name=\"b\")\n",
    "    qb_ = ed.Normal(b_loc, scale=tf.nn.softplus(b_scale), name=\"b\")\n",
    "\n",
    "    W_out_loc = tf.Variable(tf.random_normal([NHIDDEN, 1], 0.0, 0.05, dtype=tf.float32))\n",
    "    b_out_loc = tf.Variable(tf.random_normal([1, 1], 0.0, 0.05, dtype=tf.float32))\n",
    "    if LEARNING_METHOD==0:\n",
    "        W_out_scale = -25.\n",
    "        b_out_scale = -25.\n",
    "    else:\n",
    "        W_out_scale = tf.Variable(tf.random_normal([NHIDDEN, 1], -10., stddev=0.05, dtype=tf.float32))\n",
    "        b_out_scale = tf.Variable(tf.random_normal([1, 1], -10., stddev=0.05, dtype=tf.float32))\n",
    "\n",
    "    qW_out = ed.Normal(W_out_loc, scale=tf.nn.softplus(W_out_scale), name=\"W_out\")\n",
    "    qb_out = ed.Normal(b_out_loc, scale=tf.nn.softplus(b_out_scale), name=\"b_out\")\n",
    "\n",
    "    qW_out_ = ed.Normal(W_out_loc, scale=tf.nn.softplus(W_out_scale), name=\"W_out\")\n",
    "    qb_out_ = ed.Normal(b_out_loc, scale=tf.nn.softplus(b_out_scale), name=\"b_out\")\n",
    "\n",
    "    return qW, qW_, qb, qb_, qW_out, qW_out_, qb_out, qb_out_, [W_scale,b_scale,W_out_scale,b_out_scale], [W_loc,b_loc,W_out_loc,b_out_loc]\n",
    "\n",
    "\n",
    "W,b,W_out,b_out,x,y = model(NHIDDEN,NSAMPLE)\n",
    "\n",
    "qW,qW_,qb,qb_,qW_out,qW_out_,qb_out,qb_out_, scales, locs = qmodel(NHIDDEN)\n",
    "\n",
    "with ed.interception(ed.make_value_setter(W=qW,b=qb,W_out=qW_out,b_out=qb_out,x=x_train,y=y_train)):\n",
    "    pW,pb,pW_out,pb_out,px,py = model(NHIDDEN,NSAMPLE)\n",
    "\n",
    "with ed.interception(ed.make_value_setter(W=qW_,b=qb_,W_out=qW_out_,b_out=qb_out_,x=x_train,y=y_train)):\n",
    "    pW_,pb_,pW_out_,pb_out_,px_,py_ = model(NHIDDEN,NSAMPLE)\n"
   ]
  },
  {
   "cell_type": "markdown",
   "metadata": {},
   "source": [
    "## Defining the variational functionals\n",
    "\n",
    "And, now, we define the functionals ${\\cal L}(\\rho)$, $\\bar{\\cal L}_{PB^2}(\\rho)$ and $\\bar{\\cal L}_{PB^2_h}(\\rho)$ for computing the posterior $p(\\theta|D)$, $\\rho(\\theta|D)$ and $\\rho_h(\\theta|D)$, respectively."
   ]
  },
  {
   "cell_type": "code",
   "execution_count": 5,
   "metadata": {},
   "outputs": [],
   "source": [
    "logmax = tf.stop_gradient(tf.math.maximum(py.distribution.log_prob(y_train),py_.distribution.log_prob(y_train))+0.1)\n",
    "logmean_logmax = tf.math.reduce_logsumexp(tf.concat([py.distribution.log_prob(y_train)-logmax,py_.distribution.log_prob(y_train)-logmax], 1),axis=1) - tf.log(2.)\n",
    "alpha = tf.expand_dims(logmean_logmax,1)\n",
    "\n",
    "if LEARNING_METHOD==3:\n",
    "    hmax = 2*tf.stop_gradient(alpha/tf.math.pow(1-tf.math.exp(alpha),2) + tf.math.pow(tf.math.exp(alpha)*(1-tf.math.exp(alpha)),-1))\n",
    "else:\n",
    "    hmax=1.\n",
    "\n",
    "var = 0.5*(tf.reduce_sum(tf.exp(2*py.distribution.log_prob(y_train)-2*logmax)*hmax) - tf.reduce_sum(tf.exp(py.distribution.log_prob(y_train) + py_.distribution.log_prob(y_train) - 2*logmax)*hmax))\n",
    "\n",
    "dataenergy = tf.reduce_sum(py.distribution.log_prob(py.value))\n",
    "\n",
    "energy = tf.reduce_sum(pW.distribution.log_prob(pW.value)) + \\\n",
    "         tf.reduce_sum(pb.distribution.log_prob(pb.value)) + \\\n",
    "         tf.reduce_sum(pW_out.distribution.log_prob(pW_out.value)) + \\\n",
    "         tf.reduce_sum(pb_out.distribution.log_prob(pb_out.value))\n",
    "\n",
    "\n",
    "entropy = tf.reduce_sum(qW.distribution.log_prob(qW.value)) + \\\n",
    "          tf.reduce_sum(qb.distribution.log_prob(qb.value)) + \\\n",
    "          tf.reduce_sum(qW_out.distribution.log_prob(qW_out.value)) + \\\n",
    "          tf.reduce_sum(qb_out.distribution.log_prob(qb_out.value))\n",
    "\n",
    "KL = entropy - energy\n",
    "\n",
    "if LEARNING_METHOD==2 or LEARNING_METHOD==3:\n",
    "    pacelbo = dataenergy + var - 2*KL\n",
    "else:\n",
    "    pacelbo = dataenergy - KL"
   ]
  },
  {
   "cell_type": "markdown",
   "metadata": {},
   "source": [
    "## Optimizing the variational functionals\n",
    "\n",
    "We perform gradient-based optimization of the above objective. "
   ]
  },
  {
   "cell_type": "code",
   "execution_count": 6,
   "metadata": {},
   "outputs": [
    {
     "name": "stdout",
     "output_type": "stream",
     "text": [
      "\n",
      "0 epochs\t-5569338.0\n",
      "0 var\t21.15378\n",
      "0 var\t1.9378834\n",
      "0 entropy\t519.9289\n",
      "0 entropy\t532.067\n",
      "0 kl\t-578.8702\n",
      "0 kl\t-588.73553\n",
      "0 hmax\t2.5635333\n",
      "1000 epochs\t-439788.38\n",
      "1000 var\t13.666801\n",
      "1000 var\t15.944919\n",
      "1000 entropy\t405.25702\n",
      "1000 entropy\t413.16974\n",
      "1000 kl\t-474.961\n",
      "1000 kl\t-468.06766\n",
      "1000 hmax\t2.7831314\n",
      "2000 epochs\t-365611.72\n",
      "2000 var\t17.088217\n",
      "2000 var\t14.809879\n",
      "2000 entropy\t381.41278\n",
      "2000 entropy\t373.4632\n",
      "2000 kl\t-443.66104\n",
      "2000 kl\t-438.85483\n",
      "2000 hmax\t2.7831376\n",
      "3000 epochs\t-347207.25\n",
      "3000 var\t13.667717\n",
      "3000 var\t14.807206\n",
      "3000 entropy\t326.31677\n",
      "3000 entropy\t348.76425\n",
      "3000 kl\t-397.93774\n",
      "3000 kl\t-404.33163\n",
      "3000 hmax\t2.7833056\n",
      "4000 epochs\t-397273.5\n",
      "4000 var\t20.50423\n",
      "4000 var\t9.112813\n",
      "4000 entropy\t316.53085\n",
      "4000 entropy\t317.93744\n",
      "4000 kl\t-399.29007\n",
      "4000 kl\t-405.70462\n",
      "4000 hmax\t2.77072\n",
      "5000 epochs\t-321418.0\n",
      "5000 var\t13.669913\n",
      "5000 var\t13.66934\n",
      "5000 entropy\t309.91064\n",
      "5000 entropy\t298.75226\n",
      "5000 kl\t-386.02628\n",
      "5000 kl\t-393.36218\n",
      "5000 hmax\t2.7541986\n",
      "6000 epochs\t-331150.84\n",
      "6000 var\t12.530535\n",
      "6000 var\t11.391394\n",
      "6000 entropy\t299.6073\n",
      "6000 entropy\t288.01685\n",
      "6000 kl\t-378.14008\n",
      "6000 kl\t-390.1068\n",
      "6000 hmax\t2.7829657\n",
      "7000 epochs\t-355057.22\n",
      "7000 var\t7.97368\n",
      "7000 var\t11.391159\n",
      "7000 entropy\t272.83887\n",
      "7000 entropy\t285.02997\n",
      "7000 kl\t-379.0691\n",
      "7000 kl\t-380.5824\n",
      "7000 hmax\t2.7828882\n",
      "8000 epochs\t-313427.16\n",
      "8000 var\t14.809025\n",
      "8000 var\t11.389724\n",
      "8000 entropy\t257.91626\n",
      "8000 entropy\t262.65237\n",
      "8000 kl\t-384.95212\n",
      "8000 kl\t-370.3094\n",
      "8000 hmax\t2.7828324\n",
      "9000 epochs\t-301223.88\n",
      "9000 var\t18.226908\n",
      "9000 var\t12.530857\n",
      "9000 entropy\t246.50523\n",
      "9000 entropy\t243.21165\n",
      "9000 kl\t-353.52524\n",
      "9000 kl\t-368.1864\n",
      "9000 hmax\t2.7829318\n",
      "10000 epochs\t-310471.1\n",
      "10000 var\t10.25197\n",
      "10000 var\t10.251986\n",
      "10000 entropy\t228.80774\n",
      "10000 entropy\t235.82889\n",
      "10000 kl\t-378.41565\n",
      "10000 kl\t-379.89056\n",
      "10000 hmax\t2.7829604"
     ]
    },
    {
     "data": {
      "text/plain": [
       "[<matplotlib.lines.Line2D at 0x12de1a1d0>]"
      ]
     },
     "execution_count": 6,
     "metadata": {},
     "output_type": "execute_result"
    },
    {
     "data": {
      "image/png": "[encoded data removed]",
      "text/plain": [
       "<Figure size 432x288 with 1 Axes>"
      ]
     },
     "metadata": {
      "needs_background": "light"
     },
     "output_type": "display_data"
    }
   ],
   "source": [
    "num_epochs=10000\n",
    "verbose=True\n",
    "sess = tf.Session()\n",
    "optimizer = tf.train.AdamOptimizer(0.01)\n",
    "t = []\n",
    "train = optimizer.minimize(-pacelbo)\n",
    "init = tf.global_variables_initializer()\n",
    "sess.run(init)\n",
    "\n",
    "for i in range(num_epochs+1):\n",
    "    t.append(-sess.run(pacelbo))\n",
    "    sess.run(train)\n",
    "    if verbose:\n",
    "        if i % 1000 == 0:\n",
    "            str_elbo = str(-t[-1])\n",
    "            print(\"\\n\" + str(i) + \" epochs\\t\" + str_elbo, end=\"\", flush=True)\n",
    "            print(\"\\n\" + str(i) + \" var\\t\" + str(sess.run(var)), end=\"\", flush=True)\n",
    "            print(\"\\n\" + str(i) + \" var\\t\" + str(sess.run(var)), end=\"\", flush=True)\n",
    "            print(\"\\n\" + str(i) + \" entropy\\t\" + str(sess.run(entropy)), end=\"\", flush=True)\n",
    "            print(\"\\n\" + str(i) + \" entropy\\t\" + str(sess.run(entropy)), end=\"\", flush=True)\n",
    "            print(\"\\n\" + str(i) + \" kl\\t\" + str(sess.run(energy - entropy)), end=\"\", flush=True)\n",
    "            print(\"\\n\" + str(i) + \" kl\\t\" + str(sess.run(energy - entropy)), end=\"\", flush=True)\n",
    "            print(\"\\n\" + str(i) + \" hmax\\t\" + str(sess.run(tf.reduce_mean(hmax))), end=\"\", flush=True)\n",
    "\n",
    "plt.plot(t)"
   ]
  },
  {
   "cell_type": "markdown",
   "metadata": {},
   "source": [
    "## Evaluating the learned model\n",
    "Once the model is learned, we evaluate how it makes predictions by ploting its associated epistemic and aleatoric uncertainty"
   ]
  },
  {
   "cell_type": "code",
   "execution_count": 7,
   "metadata": {},
   "outputs": [
    {
     "data": {
      "image/png": "[encoded data removed]",
      "text/plain": [
       "<Figure size 432x288 with 1 Axes>"
      ]
     },
     "metadata": {
      "needs_background": "light"
     },
     "output_type": "display_data"
    }
   ],
   "source": [
    "NSAMPLETEST = 10000\n",
    "x_test = np.linspace(-10.5, 10.5, NSAMPLETEST).reshape(-1, 1)\n",
    "r_test = 1+np.float32(np.random.normal(size=(NSAMPLETEST,1),scale=VAR))\n",
    "y_test = np.float32(x_test*1.0+r_test*1.0)\n",
    "\n",
    "with ed.interception(ed.make_value_setter(W=qW,b=qb,W_out=qW_out,b_out=qb_out,x=x_test)):\n",
    "    pW,pb,pW_out,pb_out,px,py = model(NHIDDEN,NSAMPLETEST)\n",
    "\n",
    "y_pred_list = []\n",
    "y_pred_noise = []\n",
    "\n",
    "for i in range(100):\n",
    "    [mean, noise] = sess.run([py.distribution.mean(), py])\n",
    "    y_pred_list.append(mean)\n",
    "    y_pred_noise.append(noise)\n",
    "\n",
    "y_preds = np.concatenate(y_pred_list, axis=1)\n",
    "y_preds_noise = np.concatenate(y_pred_noise, axis=1)\n",
    "\n",
    "y_mean = np.mean(y_preds, axis=1)\n",
    "y_sigma = np.std(y_preds, axis=1)\n",
    "\n",
    "y_sigma_noise = np.std(y_preds_noise, axis=1)\n",
    "\n",
    "plt.plot(x_test, np.float32(x_test*1.0+1.0), 'k-', label='True mean');\n",
    "plt.plot(x_test, y_mean, 'r-', label='Predictive mean');\n",
    "plt.scatter(x_train, y_train, marker='+', label='Training data')\n",
    "plt.fill_between(x_test.ravel(),\n",
    "                 y_mean + 2 * y_sigma_noise,\n",
    "                 y_mean - 2 * y_sigma_noise,\n",
    "                 alpha=0.5, label='Aleatory uncertainty')\n",
    "\n",
    "plt.fill_between(x_test.ravel(),\n",
    "                 y_mean + 2 * y_sigma,\n",
    "                 y_mean - 2 * y_sigma,\n",
    "                 alpha=0.5, label='Epistemic uncertainty')\n",
    "\n",
    "\n",
    "plt.ylabel('y')\n",
    "plt.xlabel('x')\n",
    "\n",
    "\n",
    "plt.xticks(np.arange(-10.5, 10.5, 4))\n",
    "plt.legend();\n",
    "\n",
    "if LEARNING_METHOD==3:\n",
    "    plt.title(r'PAC$^2$-Variational Learning, $\\rho_h(\\theta|D)$')\n",
    "elif LEARNING_METHOD==2:\n",
    "    plt.title(r'PAC$^2$-Variational Learning, $\\rho(\\theta|D)$')\n",
    "elif LEARNING_METHOD==1:\n",
    "    plt.title(r'Variational Inference')\n",
    "elif LEARNING_METHOD==0:\n",
    "    plt.title(r'MAP Inference')\n",
    "\n",
    "plt.show()"
   ]
  },
  {
   "cell_type": "markdown",
   "metadata": {},
   "source": [
    "We now have a look at the $\\hat{\\mathbb{V}}_h$ value of the convergence point."
   ]
  },
  {
   "cell_type": "code",
   "execution_count": 8,
   "metadata": {},
   "outputs": [
    {
     "name": "stdout",
     "output_type": "stream",
     "text": [
      "Var_h value of the convergence point is: 290.03983\n"
     ]
    }
   ],
   "source": [
    "with ed.interception(ed.make_value_setter(W=qW,b=qb,W_out=qW_out,b_out=qb_out,x=x_train,y=y_train)):\n",
    "    pW,pb,pW_out,pb_out,px,py = model(NHIDDEN,NSAMPLE)\n",
    "\n",
    "y_pred_list = []\n",
    "for i in range(100):\n",
    "    y_pred_list.append(sess.run(py.distribution.log_prob(py.value)))\n",
    "\n",
    "total = np.concatenate(y_pred_list,axis=1)\n",
    "\n",
    "logmax = tf.math.reduce_max(total,axis=1)\n",
    "logmax_rep = tf.transpose(tf.reshape(tf.tile(logmax,[100]),[100,NSAMPLE]))\n",
    "logmean = tf.math.reduce_logsumexp(total-logmax_rep, axis=1) - tf.log(100.)\n",
    "logmeansquare = tf.math.reduce_logsumexp(2*total-2*logmax_rep, axis=1) - tf.log(100.)\n",
    "\n",
    "alpha = logmean-logmax\n",
    "hmaxtotal =  alpha/tf.math.pow(1-tf.math.exp(alpha),2.) + tf.math.pow(tf.math.exp(alpha)*(1-tf.math.exp(alpha)),-1.)\n",
    "\n",
    "varTotal = tf.exp(logmeansquare) - tf.exp(logmean)*tf.exp(logmean)\n",
    "hmaxvarTotal= tf.math.reduce_sum(tf.math.multiply(varTotal,hmaxtotal))\n",
    "\n",
    "\n",
    "print(\"Var_h value of the convergence point is: \"+str(sess.run(hmaxvarTotal)))"
   ]
  },
  {
   "cell_type": "markdown",
   "metadata": {},
   "source": [
    "Finally, we plot the histograms plotted at Figure 8. "
   ]
  },
  {
   "cell_type": "code",
   "execution_count": 9,
   "metadata": {},
   "outputs": [
    {
     "data": {
      "image/png": "[encoded data removed]",
      "text/plain": [
       "<Figure size 432x288 with 1 Axes>"
      ]
     },
     "metadata": {
      "needs_background": "light"
     },
     "output_type": "display_data"
    }
   ],
   "source": [
    "[W_loc,b_loc,W_out_loc,b_out_loc] = locs\n",
    "[W_scale,b_scale,W_out_scale,b_out_scale] = scales\n",
    "\n",
    "if not LEARNING_METHOD==0:\n",
    "    eval = []\n",
    "    for p in scales:\n",
    "        eval.append(p.assign(-10000 + np.zeros(p.shape)))\n",
    "\n",
    "    sess.run(eval)\n",
    "\n",
    "center = sess.run(-dataenergy)\n",
    "\n",
    "vals = []\n",
    "for p in locs:\n",
    "    vals.append(sess.run(p))\n",
    "\n",
    "hist = []\n",
    "y_pred_list= []\n",
    "v = 0.01\n",
    "for i in range(100):\n",
    "    eval = []\n",
    "    for i in range(len(locs)):\n",
    "        eval.append(locs[i].assign(vals[i]+np.random.normal(scale=v, size = locs[i].shape)))\n",
    "    sess.run(eval)\n",
    "    hist.append(sess.run(-dataenergy))\n",
    "\n",
    "plt.xlim(center-3*center, center+3*center)\n",
    "plt.xlabel(\"Log-Prob of Training Data\")\n",
    "plt.axvline(x=center, color='r', label='Convergence Point')\n",
    "plt.hist(hist,align='left')\n",
    "plt.legend()\n",
    "\n",
    "\n",
    "if LEARNING_METHOD==3:\n",
    "    plt.title(r'PAC$^2$-Variational Learning, $\\rho_h(\\theta|D)$')\n",
    "elif LEARNING_METHOD==2:\n",
    "    plt.title(r'PAC$^2$-Variational Learning, $\\rho(\\theta|D)$')\n",
    "elif LEARNING_METHOD==1:\n",
    "    plt.title(r'Variational Inference')\n",
    "else:\n",
    "    plt.title(r'MAP Inference')\n",
    "\n",
    "plt.show()"
   ]
  },
  {
   "cell_type": "markdown",
   "metadata": {},
   "source": [
    "And compute the Pearson variation coefficient, "
   ]
  },
  {
   "cell_type": "code",
   "execution_count": 10,
   "metadata": {},
   "outputs": [
    {
     "name": "stdout",
     "output_type": "stream",
     "text": [
      "Pearson variation coefficient: -1.5450081788003445\n"
     ]
    }
   ],
   "source": [
    "cv = -np.std(hist)/np.mean(hist)*100\n",
    "print(\"Pearson variation coefficient: \" + str(cv))"
   ]
  }
 ],
 "metadata": {
  "kernelspec": {
   "display_name": "Python 3",
   "language": "python",
   "name": "python3"
  },
  "language_info": {
   "codemirror_mode": {
    "name": "ipython",
    "version": 3
   },
   "file_extension": ".py",
   "mimetype": "text/x-python",
   "name": "python",
   "nbconvert_exporter": "python",
   "pygments_lexer": "ipython3",
   "version": "3.6.6"
  }
 },
 "nbformat": 4,
 "nbformat_minor": 2
}
