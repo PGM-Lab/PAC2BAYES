{
 "cells": [
  {
   "cell_type": "markdown",
   "metadata": {},
   "source": [
    "## Imports"
   ]
  },
  {
   "cell_type": "code",
   "execution_count": 1,
   "metadata": {
    "scrolled": true
   },
   "outputs": [
    {
     "name": "stderr",
     "output_type": "stream",
     "text": [
      "/Library/Frameworks/Python.framework/Versions/3.6/lib/python3.6/site-packages/tensorflow/python/framework/dtypes.py:526: FutureWarning: Passing (type, 1) or '1type' as a synonym of type is deprecated; in a future version of numpy, it will be understood as (type, (1,)) / '(1,)type'.\n",
      "  _np_qint8 = np.dtype([(\"qint8\", np.int8, 1)])\n",
      "/Library/Frameworks/Python.framework/Versions/3.6/lib/python3.6/site-packages/tensorflow/python/framework/dtypes.py:527: FutureWarning: Passing (type, 1) or '1type' as a synonym of type is deprecated; in a future version of numpy, it will be understood as (type, (1,)) / '(1,)type'.\n",
      "  _np_quint8 = np.dtype([(\"quint8\", np.uint8, 1)])\n",
      "/Library/Frameworks/Python.framework/Versions/3.6/lib/python3.6/site-packages/tensorflow/python/framework/dtypes.py:528: FutureWarning: Passing (type, 1) or '1type' as a synonym of type is deprecated; in a future version of numpy, it will be understood as (type, (1,)) / '(1,)type'.\n",
      "  _np_qint16 = np.dtype([(\"qint16\", np.int16, 1)])\n",
      "/Library/Frameworks/Python.framework/Versions/3.6/lib/python3.6/site-packages/tensorflow/python/framework/dtypes.py:529: FutureWarning: Passing (type, 1) or '1type' as a synonym of type is deprecated; in a future version of numpy, it will be understood as (type, (1,)) / '(1,)type'.\n",
      "  _np_quint16 = np.dtype([(\"quint16\", np.uint16, 1)])\n",
      "/Library/Frameworks/Python.framework/Versions/3.6/lib/python3.6/site-packages/tensorflow/python/framework/dtypes.py:530: FutureWarning: Passing (type, 1) or '1type' as a synonym of type is deprecated; in a future version of numpy, it will be understood as (type, (1,)) / '(1,)type'.\n",
      "  _np_qint32 = np.dtype([(\"qint32\", np.int32, 1)])\n",
      "/Library/Frameworks/Python.framework/Versions/3.6/lib/python3.6/site-packages/tensorflow/python/framework/dtypes.py:535: FutureWarning: Passing (type, 1) or '1type' as a synonym of type is deprecated; in a future version of numpy, it will be understood as (type, (1,)) / '(1,)type'.\n",
      "  np_resource = np.dtype([(\"resource\", np.ubyte, 1)])\n"
     ]
    },
    {
     "name": "stdout",
     "output_type": "stream",
     "text": [
      "\n",
      "WARNING: The TensorFlow contrib module will not be included in TensorFlow 2.0.\n",
      "For more information, please see:\n",
      "  * https://github.com/tensorflow/community/blob/master/rfcs/20180907-contrib-sunset.md\n",
      "  * https://github.com/tensorflow/addons\n",
      "If you depend on functionality not listed there, please file an issue.\n",
      "\n"
     ]
    }
   ],
   "source": [
    "import matplotlib.pyplot as plt\n",
    "import numpy as np\n",
    "import tensorflow as tf\n",
    "import math\n",
    "from tensorflow_probability import edward2 as ed\n",
    "%matplotlib inline"
   ]
  },
  {
   "cell_type": "markdown",
   "metadata": {},
   "source": [
    "# Data Set\n",
    "\n",
    "In this first part, we present the data set used for this example. By setting the flag ``MODEL_MISSSPECIFICATION`` we can generate the figures under perfect model specification or under model miss-specification. "
   ]
  },
  {
   "cell_type": "code",
   "execution_count": 2,
   "metadata": {},
   "outputs": [
    {
     "data": {
      "image/png": "[encoded data removed]",
      "text/plain": [
       "<Figure size 432x288 with 1 Axes>"
      ]
     },
     "metadata": {
      "needs_background": "light"
     },
     "output_type": "display_data"
    }
   ],
   "source": [
    "## Control the presence of model miss-specficication as shown in Figures 2 and 3. \n",
    "MODEL_MISSSPECIFICATION = True\n",
    "\n",
    "if MODEL_MISSSPECIFICATION:\n",
    "    VAR=5.\n",
    "else:\n",
    "    VAR=1.\n",
    "\n",
    "\n",
    "# Set seeds for reproducibility\n",
    "np.random.seed(0)\n",
    "tf.set_random_seed(0)\n",
    "\n",
    "NSAMPLE = 100\n",
    "def sampleData(samples, variance):\n",
    "    x = np.linspace(-10.5, 10.5, samples).reshape(-1, 1)\n",
    "    r = 1+np.float32(np.random.normal(size=(samples,1),scale=variance))\n",
    "    y = np.float32(x*1.0+r*1.0)\n",
    "    return (x,y)\n",
    "\n",
    "(x_train, y_train) = sampleData(NSAMPLE, VAR)\n",
    "plt.scatter(x_train, y_train, marker='+', label='Training data')\n",
    "plt.ylim(-20,20)\n",
    "plt.xticks(np.arange(-10.5, 10.5, 4))\n",
    "plt.legend()\n",
    "plt.show()"
   ]
  },
  {
   "cell_type": "markdown",
   "metadata": {},
   "source": [
    "# The PAC$^2$-Bayesian Posterior\n",
    "\n",
    "We now perform learning with the PAC$^2$-Bayesian Posterior computed with the PAC$^2$-Variational algorithm presented in Section 5.1, using a Multivariate Normal (MVN) distribuiton as approximation family. We follow the implementation detailed in Appendix B. \n",
    "\n",
    "We now employ Tensorflow Probability and Edward 2 to define and make varitional inference over a Bayesian Linear regression model. Note how in the ``qmodel`` we introduce two MVN distribution with the same variational parameters. \n"
   ]
  },
  {
   "cell_type": "code",
   "execution_count": 3,
   "metadata": {},
   "outputs": [
    {
     "name": "stdout",
     "output_type": "stream",
     "text": [
      "WARNING:tensorflow:From /Library/Frameworks/Python.framework/Versions/3.6/lib/python3.6/site-packages/tensorflow/python/framework/op_def_library.py:263: colocate_with (from tensorflow.python.framework.ops) is deprecated and will be removed in a future version.\n",
      "Instructions for updating:\n",
      "Colocations handled automatically by placer.\n"
     ]
    }
   ],
   "source": [
    "def model(NSAMPLE):\n",
    "    W = ed.MultivariateNormalTriL(tf.zeros([1,2]), tf.zeros([2, 2]) + tf.eye(2), name=\"W\")\n",
    "\n",
    "    x = ed.Normal(loc=tf.zeros([NSAMPLE, 1]), scale=1.0, name=\"x\")\n",
    "\n",
    "    out = tf.matmul(x, W)[:,0] + tf.matmul(tf.ones(x.shape), W)[:,1]\n",
    "    out = tf.expand_dims(out,1)\n",
    "    y = ed.Normal(loc=out, scale=1.0, name=\"y\")\n",
    "\n",
    "    return W, x, y\n",
    "\n",
    "\n",
    "def qmodel():\n",
    "    qmu0 = tf.Variable(tf.random_normal([1,2], 0.0, 0.05, dtype=tf.float32))\n",
    "    qR = tf.Variable(tf.random_normal([2, 2], 0.0, stddev=0.05, dtype=tf.float32))\n",
    "\n",
    "    qW = ed.MultivariateNormalTriL(qmu0, qR, name=\"W\")\n",
    "    qW_ = ed.MultivariateNormalTriL(qmu0, qR, name=\"W\")\n",
    "\n",
    "    return qW, qW_\n",
    "\n",
    "\n",
    "W,x,y = model(NSAMPLE)\n",
    "\n",
    "qW,qW_= qmodel()\n",
    "\n",
    "with ed.interception(ed.make_value_setter(W=qW,x=x_train,y=y_train)):\n",
    "    pW,px,py = model(NSAMPLE)\n",
    "\n",
    "with ed.interception(ed.make_value_setter(W=qW_,x=x_train,y=y_train)):\n",
    "    pW_,px_,py_ = model(NSAMPLE)\n",
    "\n"
   ]
  },
  {
   "cell_type": "markdown",
   "metadata": {},
   "source": [
    "## Defining $\\bar{\\cal L}_{PB^2}(\\rho)$ and $\\bar{\\cal L}_{PB^2_h}(\\rho)$\n",
    "And, now, we define the functionals $\\bar{\\cal L}_{PB^2}(\\rho)$ and $\\bar{\\cal L}_{PB^2_h}(\\rho)$, as defined in Equations (12) and (20) for computing the posterior $\\rho(\\theta|D)$ and $\\rho_h(\\theta|D)$, respectively.\n",
    "\n",
    "The ``hmaxFlag=True`` computes $\\rho_h(\\theta|D)$, while ``hmaxFlag=False`` computes $\\rho(\\theta|D)$. Set the flag and you will be able to see the difference."
   ]
  },
  {
   "cell_type": "code",
   "execution_count": 4,
   "metadata": {},
   "outputs": [],
   "source": [
    "hmaxFlag=True\n",
    "\n",
    "logmax = tf.stop_gradient(tf.math.maximum(py.distribution.log_prob(y_train),py_.distribution.log_prob(y_train))+0.1)\n",
    "logmean = tf.math.reduce_logsumexp(tf.concat([py.distribution.log_prob(y_train),py_.distribution.log_prob(y_train)], 1),axis=1) - tf.log(2.)\n",
    "inc = tf.expand_dims(logmean,1)-logmax\n",
    "\n",
    "if (hmaxFlag):\n",
    "    hmax = 2*tf.stop_gradient(inc/tf.math.pow(1-tf.math.exp(inc),2) + tf.math.pow(tf.math.exp(inc)*(1-tf.math.exp(inc)),-1))\n",
    "else:\n",
    "    hmax=1.\n",
    "\n",
    "var = 0.5*(tf.reduce_sum(tf.exp(2*py.distribution.log_prob(y_train)-2*logmax)*hmax) - tf.reduce_sum(tf.exp(py.distribution.log_prob(y_train) + py_.distribution.log_prob(y_train) - 2*logmax)*hmax))\n",
    "\n",
    "\n",
    "datalikelihood = tf.reduce_sum(py.distribution.log_prob(py.value))\n",
    "\n",
    "KL = tf.reduce_sum(qW.distribution.log_prob(qW.value))- \\\n",
    "     tf.reduce_sum(pW.distribution.log_prob(pW.value))\n",
    "\n",
    "pacelbo = datalikelihood + var - 2*KL\n",
    "\n"
   ]
  },
  {
   "cell_type": "markdown",
   "metadata": {},
   "source": [
    "## Optimizing $\\bar{\\cal L}_{PB^2}(\\rho)$ and $\\bar{\\cal L}_{PB^2_h}(\\rho)$\n",
    "\n",
    "We perform gradient-based optimization of the above objective. "
   ]
  },
  {
   "cell_type": "code",
   "execution_count": 5,
   "metadata": {},
   "outputs": [
    {
     "name": "stdout",
     "output_type": "stream",
     "text": [
      "WARNING:tensorflow:From /Library/Frameworks/Python.framework/Versions/3.6/lib/python3.6/site-packages/tensorflow/python/ops/math_ops.py:3066: to_int32 (from tensorflow.python.ops.math_ops) is deprecated and will be removed in a future version.\n",
      "Instructions for updating:\n",
      "Use tf.cast instead.\n",
      ".\n",
      "0 epochs\t-3252.6194..........\n",
      "100 epochs\t-1340.8612..........\n",
      "200 epochs\t-1348.6229..........\n",
      "300 epochs\t-1424.3907..........\n",
      "400 epochs\t-1323.5497..........\n",
      "500 epochs\t-1389.966..........\n",
      "600 epochs\t-1496.3427..........\n",
      "700 epochs\t-1361.3356..........\n",
      "800 epochs\t-1341.5571..........\n",
      "900 epochs\t-1430.8531..........\n",
      "1000 epochs\t-1457.7352"
     ]
    },
    {
     "data": {
      "text/plain": [
       "[<matplotlib.lines.Line2D at 0x12c6bbfd0>]"
      ]
     },
     "execution_count": 5,
     "metadata": {},
     "output_type": "execute_result"
    },
    {
     "data": {
      "image/png": "[encoded data removed]",
      "text/plain": [
       "<Figure size 432x288 with 1 Axes>"
      ]
     },
     "metadata": {
      "needs_background": "light"
     },
     "output_type": "display_data"
    }
   ],
   "source": [
    "num_epochs=1000\n",
    "verbose=True\n",
    "sess = tf.Session()\n",
    "optimizer = tf.train.AdamOptimizer(0.01)\n",
    "t = []\n",
    "train = optimizer.minimize(-pacelbo)\n",
    "init = tf.global_variables_initializer()\n",
    "sess.run(init)\n",
    "\n",
    "for i in range(num_epochs+1):\n",
    "    t.append(-sess.run(pacelbo))\n",
    "    sess.run(train)\n",
    "    if verbose:\n",
    "        if i % 10 == 0: print(\".\", end=\"\", flush=True)\n",
    "        if i % 100 == 0:\n",
    "            str_elbo = str(-t[-1])\n",
    "            print(\"\\n\" + str(i) + \" epochs\\t\" + str_elbo, end=\"\", flush=True)\n",
    "\n",
    "plt.plot(t)"
   ]
  },
  {
   "cell_type": "markdown",
   "metadata": {},
   "source": [
    "## Evaluating the PAC$^2$-Bayesian posterior\n",
    "Once the model is learned, we evaluate how it makes predictions by ploting its associated epistemic and aleatoric uncertainty"
   ]
  },
  {
   "cell_type": "code",
   "execution_count": 6,
   "metadata": {},
   "outputs": [
    {
     "data": {
      "image/png": "[encoded data removed]",
      "text/plain": [
       "<Figure size 432x288 with 1 Axes>"
      ]
     },
     "metadata": {
      "needs_background": "light"
     },
     "output_type": "display_data"
    }
   ],
   "source": [
    "NSAMPLETEST = 10000\n",
    "(x_test, y_test) = sampleData(NSAMPLETEST, VAR)\n",
    "\n",
    "\n",
    "with ed.interception(ed.make_value_setter(W=qW,x=x_test)):\n",
    "    pW,px,py = model(NSAMPLETEST)\n",
    "\n",
    "#plt.figure(figsize=(8, 8))\n",
    "y_pred_list = []\n",
    "y_pred_noise = []\n",
    "\n",
    "for i in range(100):\n",
    "    [mean, noise] = sess.run([py.distribution.mean(), py])\n",
    "    y_pred_list.append(mean)\n",
    "    y_pred_noise.append(noise)\n",
    "\n",
    "y_preds = np.concatenate(y_pred_list, axis=1)\n",
    "y_preds_noise = np.concatenate(y_pred_noise, axis=1)\n",
    "\n",
    "y_mean = np.mean(y_preds, axis=1)\n",
    "y_sigma = np.std(y_preds, axis=1)\n",
    "\n",
    "y_sigma_noise = np.std(y_preds_noise, axis=1)\n",
    "\n",
    "plt.plot(x_test, y_mean, 'r-', label='Predictive mean');\n",
    "plt.scatter(x_train, y_train, marker='+', label='Training data')\n",
    "plt.fill_between(x_test.ravel(),\n",
    "                 y_mean + 2 * y_sigma_noise,\n",
    "                 y_mean - 2 * y_sigma_noise,\n",
    "                 alpha=0.5, label='Aleatory uncertainty')\n",
    "\n",
    "plt.fill_between(x_test.ravel(),\n",
    "                 y_mean + 2 * y_sigma,\n",
    "                 y_mean - 2 * y_sigma,\n",
    "                 alpha=0.5, label='Epistemic uncertainty')\n",
    "\n",
    "\n",
    "plt.ylabel('y')\n",
    "plt.xlabel('x')\n",
    "\n",
    "plt.ylim(-20,20)\n",
    "plt.xticks(np.arange(-10.5, 10.5, 4))\n",
    "plt.legend();\n",
    "\n",
    "if hmaxFlag:\n",
    "    plt.title(r'PAC$^2$-Bayesian Learning, $\\rho_h(\\theta|D)$')\n",
    "else:\n",
    "    plt.title(r'PAC$^2$-Bayesian Learning, $\\rho(\\theta|D)$')\n",
    "plt.show()"
   ]
  },
  {
   "cell_type": "markdown",
   "metadata": {},
   "source": [
    "We also compute the *log-likelihood of the predicitive posterior* over the independent test data set."
   ]
  },
  {
   "cell_type": "code",
   "execution_count": 7,
   "metadata": {},
   "outputs": [
    {
     "name": "stdout",
     "output_type": "stream",
     "text": [
      "\n",
      "Log-likelihood of the predicitive posterior: -61473.4\n"
     ]
    }
   ],
   "source": [
    "y_pred_list = []\n",
    "for i in range(100):\n",
    "    y_pred_list.append(sess.run(py.distribution.log_prob(y_test)))\n",
    "\n",
    "y_preds = tf.concat(y_pred_list, axis=1)\n",
    "\n",
    "score = tf.reduce_sum(tf.math.reduce_logsumexp(y_preds,axis=1)-tf.log(100.))\n",
    "\n",
    "score = sess.run(score)\n",
    "\n",
    "print(\"\\nLog-likelihood of the predicitive posterior: \"+str(score))"
   ]
  },
  {
   "cell_type": "markdown",
   "metadata": {},
   "source": [
    "And we also plot the posterior distribution $\\rho(\\theta|D)$ or $\\rho_h(\\theta|D)$"
   ]
  },
  {
   "cell_type": "code",
   "execution_count": 8,
   "metadata": {},
   "outputs": [
    {
     "data": {
      "image/png": "[encoded data removed]",
      "text/plain": [
       "<Figure size 432x288 with 1 Axes>"
      ]
     },
     "metadata": {
      "needs_background": "light"
     },
     "output_type": "display_data"
    }
   ],
   "source": [
    "N = 2000\n",
    "frame=2\n",
    "X = np.linspace(1.-frame, 1+frame, N)\n",
    "Y = np.linspace(1.-frame, 1.+frame, N)\n",
    "X, Y = np.meshgrid(X, Y)\n",
    "\n",
    "\n",
    "\n",
    "# Pack X and Y into a single 3-dimensional array\n",
    "pos = np.empty(X.shape + (2,))\n",
    "pos[:, :, 0] = X\n",
    "pos[:, :, 1] = Y\n",
    "Z = sess.run(tf.squeeze(qW.distribution.log_prob(tf.expand_dims(np.float32(pos),2))))\n",
    "\n",
    "\n",
    "# Create a surface plot and projected filled contour plot under it.\n",
    "plt.contourf(X, Y, np.exp(Z-np.max(Z)))\n",
    "plt.ylabel(r'$\\theta_0$')\n",
    "plt.xlabel(r'$\\theta_1$')\n",
    "\n",
    "if hmaxFlag:\n",
    "    plt.title(r'PAC$^2$-Bayesian Posterior, $\\rho_h(\\theta|D)$')\n",
    "else:\n",
    "    plt.title(r'PAC$^2$-Bayesian Posterior, $\\rho(\\theta|D)$')\n",
    "\n",
    "plt.show()"
   ]
  }
 ],
 "metadata": {
  "kernelspec": {
   "display_name": "Python 3",
   "language": "python",
   "name": "python3"
  },
  "language_info": {
   "codemirror_mode": {
    "name": "ipython",
    "version": 3
   },
   "file_extension": ".py",
   "mimetype": "text/x-python",
   "name": "python",
   "nbconvert_exporter": "python",
   "pygments_lexer": "ipython3",
   "version": "3.6.6"
  }
 },
 "nbformat": 4,
 "nbformat_minor": 2
}
