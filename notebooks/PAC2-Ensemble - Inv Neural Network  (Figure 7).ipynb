{
 "cells": [
  {
   "cell_type": "markdown",
   "metadata": {},
   "source": [
    "## Imports"
   ]
  },
  {
   "cell_type": "code",
   "execution_count": 1,
   "metadata": {
    "scrolled": true
   },
   "outputs": [
    {
     "name": "stderr",
     "output_type": "stream",
     "text": [
      "/Users/andresmasegosa/Google Drive/papers/2019-denmark-pac-bayes/tfp0.7/lib/python3.6/site-packages/tensorflow/python/framework/dtypes.py:516: FutureWarning: Passing (type, 1) or '1type' as a synonym of type is deprecated; in a future version of numpy, it will be understood as (type, (1,)) / '(1,)type'.\n  _np_qint8 = np.dtype([(\"qint8\", np.int8, 1)])\n/Users/andresmasegosa/Google Drive/papers/2019-denmark-pac-bayes/tfp0.7/lib/python3.6/site-packages/tensorflow/python/framework/dtypes.py:517: FutureWarning: Passing (type, 1) or '1type' as a synonym of type is deprecated; in a future version of numpy, it will be understood as (type, (1,)) / '(1,)type'.\n  _np_quint8 = np.dtype([(\"quint8\", np.uint8, 1)])\n/Users/andresmasegosa/Google Drive/papers/2019-denmark-pac-bayes/tfp0.7/lib/python3.6/site-packages/tensorflow/python/framework/dtypes.py:518: FutureWarning: Passing (type, 1) or '1type' as a synonym of type is deprecated; in a future version of numpy, it will be understood as (type, (1,)) / '(1,)type'.\n  _np_qint16 = np.dtype([(\"qint16\", np.int16, 1)])\n/Users/andresmasegosa/Google Drive/papers/2019-denmark-pac-bayes/tfp0.7/lib/python3.6/site-packages/tensorflow/python/framework/dtypes.py:519: FutureWarning: Passing (type, 1) or '1type' as a synonym of type is deprecated; in a future version of numpy, it will be understood as (type, (1,)) / '(1,)type'.\n  _np_quint16 = np.dtype([(\"quint16\", np.uint16, 1)])\n/Users/andresmasegosa/Google Drive/papers/2019-denmark-pac-bayes/tfp0.7/lib/python3.6/site-packages/tensorflow/python/framework/dtypes.py:520: FutureWarning: Passing (type, 1) or '1type' as a synonym of type is deprecated; in a future version of numpy, it will be understood as (type, (1,)) / '(1,)type'.\n  _np_qint32 = np.dtype([(\"qint32\", np.int32, 1)])\n/Users/andresmasegosa/Google Drive/papers/2019-denmark-pac-bayes/tfp0.7/lib/python3.6/site-packages/tensorflow/python/framework/dtypes.py:525: FutureWarning: Passing (type, 1) or '1type' as a synonym of type is deprecated; in a future version of numpy, it will be understood as (type, (1,)) / '(1,)type'.\n  np_resource = np.dtype([(\"resource\", np.ubyte, 1)])\n"
     ]
    },
    {
     "name": "stderr",
     "output_type": "stream",
     "text": [
      "/Users/andresmasegosa/Google Drive/papers/2019-denmark-pac-bayes/tfp0.7/lib/python3.6/site-packages/tensorboard/compat/tensorflow_stub/dtypes.py:541: FutureWarning: Passing (type, 1) or '1type' as a synonym of type is deprecated; in a future version of numpy, it will be understood as (type, (1,)) / '(1,)type'.\n  _np_qint8 = np.dtype([(\"qint8\", np.int8, 1)])\n/Users/andresmasegosa/Google Drive/papers/2019-denmark-pac-bayes/tfp0.7/lib/python3.6/site-packages/tensorboard/compat/tensorflow_stub/dtypes.py:542: FutureWarning: Passing (type, 1) or '1type' as a synonym of type is deprecated; in a future version of numpy, it will be understood as (type, (1,)) / '(1,)type'.\n  _np_quint8 = np.dtype([(\"quint8\", np.uint8, 1)])\n/Users/andresmasegosa/Google Drive/papers/2019-denmark-pac-bayes/tfp0.7/lib/python3.6/site-packages/tensorboard/compat/tensorflow_stub/dtypes.py:543: FutureWarning: Passing (type, 1) or '1type' as a synonym of type is deprecated; in a future version of numpy, it will be understood as (type, (1,)) / '(1,)type'.\n  _np_qint16 = np.dtype([(\"qint16\", np.int16, 1)])\n/Users/andresmasegosa/Google Drive/papers/2019-denmark-pac-bayes/tfp0.7/lib/python3.6/site-packages/tensorboard/compat/tensorflow_stub/dtypes.py:544: FutureWarning: Passing (type, 1) or '1type' as a synonym of type is deprecated; in a future version of numpy, it will be understood as (type, (1,)) / '(1,)type'.\n  _np_quint16 = np.dtype([(\"quint16\", np.uint16, 1)])\n/Users/andresmasegosa/Google Drive/papers/2019-denmark-pac-bayes/tfp0.7/lib/python3.6/site-packages/tensorboard/compat/tensorflow_stub/dtypes.py:545: FutureWarning: Passing (type, 1) or '1type' as a synonym of type is deprecated; in a future version of numpy, it will be understood as (type, (1,)) / '(1,)type'.\n  _np_qint32 = np.dtype([(\"qint32\", np.int32, 1)])\n/Users/andresmasegosa/Google Drive/papers/2019-denmark-pac-bayes/tfp0.7/lib/python3.6/site-packages/tensorboard/compat/tensorflow_stub/dtypes.py:550: FutureWarning: Passing (type, 1) or '1type' as a synonym of type is deprecated; in a future version of numpy, it will be understood as (type, (1,)) / '(1,)type'.\n  np_resource = np.dtype([(\"resource\", np.ubyte, 1)])\n"
     ]
    }
   ],
   "source": [
    "import matplotlib.pyplot as plt\n",
    "import numpy as np\n",
    "import tensorflow as tf\n",
    "import math\n",
    "from tensorflow_probability import edward2 as ed\n",
    "%matplotlib inline"
   ]
  },
  {
   "cell_type": "markdown",
   "metadata": {},
   "source": [
    "# Configuration\n",
    "\n",
    "Now we define the learning method and the number of models of the ensemble. \n",
    "\n"
   ]
  },
  {
   "cell_type": "code",
   "execution_count": 2,
   "metadata": {},
   "outputs": [],
   "source": [
    "## Learning Method\n",
    "# 0. MAP Learning \n",
    "# 2. PAC$^2$-Ensemble Learning\n",
    "# 3. PAC$^2_T$-Ensemble Learning\n",
    "\n",
    "LEARNING_METHOD = 3\n",
    "\n",
    "## Control the presence of model miss-specficication as shown in Figures 2 and 3. \n",
    "MODEL_MISSSPECIFICATION = True\n",
    "\n",
    "## Number of ensemble models.\n",
    "K=3"
   ]
  },
  {
   "cell_type": "markdown",
   "metadata": {},
   "source": [
    "# Data Set\n",
    "\n",
    "In this first part, we present the data set used for this example. By setting the flag ``MODEL_MISSSPECIFICATION`` we can generate the figures under perfect model specification or under model miss-specification. "
   ]
  },
  {
   "cell_type": "code",
   "execution_count": 3,
   "metadata": {
    "scrolled": true
   },
   "outputs": [
    {
     "data": {
      "image/png": "[encoded data removed]",
      "text/plain": [
       "<Figure size 432x288 with 1 Axes>"
      ]
     },
     "metadata": {},
     "output_type": "display_data"
    }
   ],
   "source": [
    "# Set seeds for reproducibility\n",
    "np.random.seed(0)\n",
    "tf.set_random_seed(1)\n",
    "VAR=1.\n",
    "NSAMPLE = 10000\n",
    "\n",
    "x_train = np.linspace(-10.5, 10.5, np.int(NSAMPLE/2)).reshape(-1, 1)\n",
    "r_train = np.float32(np.random.normal(size=(np.int(NSAMPLE/2),1),scale=VAR))\n",
    "y_train = np.float32(np.sin(0.75*x_train)*7.0+x_train*0.5+r_train*1.0)\n",
    "x_train2 = np.linspace(-10.5, 10.5, np.int(NSAMPLE/2)).reshape(-1, 1)\n",
    "r_train2 = np.float32(np.random.normal(size=(np.int(NSAMPLE/2),1),scale=VAR))\n",
    "y_train2 = -np.float32(np.sin(0.75*x_train2)*7.0+x_train2*0.5+r_train2*1.0)\n",
    "x_train = np.concatenate((x_train,x_train2))\n",
    "y_train = np.concatenate((y_train,y_train2))\n",
    "\n",
    "plt.scatter(x_train, y_train, marker='+', label='Training data')\n",
    "plt.ylim(-20,20)\n",
    "plt.xticks(np.arange(-10.5, 10.5, 4))\n",
    "plt.legend()\n",
    "plt.show()"
   ]
  },
  {
   "cell_type": "markdown",
   "metadata": {},
   "source": [
    "# Learning a Neural Network\n",
    "\n",
    "We now employ Tensorflow Probability and Edward 2 to define and make varitional inference over a Bayesian neural network. "
   ]
  },
  {
   "cell_type": "code",
   "execution_count": 4,
   "metadata": {},
   "outputs": [],
   "source": [
    "NHIDDEN = 20\n",
    "\n",
    "x = tf.placeholder(\"float\", shape=[None, 1])\n",
    "y = tf.placeholder(\"float\", shape=[None, 1])\n",
    "\n",
    "def model(NHIDDEN, x):\n",
    "    W = tf.Variable(tf.random_normal([1, NHIDDEN], 0.0, 0.05, dtype=tf.float32))\n",
    "    b = tf.Variable(tf.random_normal([1, NHIDDEN], 0.0, 0.05, dtype=tf.float32))\n",
    "\n",
    "    W_out = tf.Variable(tf.random_normal([NHIDDEN, 1], 0.0, 0.05, dtype=tf.float32))\n",
    "    b_out = tf.Variable(tf.random_normal([1, 1], 0.0, 0.05, dtype=tf.float32))\n",
    "\n",
    "    hidden_layer = tf.nn.tanh(tf.matmul(x, W) + b)\n",
    "    out = tf.matmul(hidden_layer, W_out) + b_out\n",
    "    y = ed.Normal(loc=out, scale=1.0, name=\"y\")\n",
    "\n",
    "    return x, y\n",
    "\n",
    "\n",
    "t = []\n",
    "tpy = []\n",
    "for i in range(K):\n",
    "    px,py = model(NHIDDEN,x)\n",
    "    t.append(py.distribution.log_prob(y))\n",
    "    tpy.append(py)"
   ]
  },
  {
   "cell_type": "markdown",
   "metadata": {},
   "source": [
    "## Defining the variational functionals\n",
    "\n",
    "And, now, we define the functionals $\\bar{\\cal L}_{PB^2}(\\rho)$ and $\\bar{\\cal L}_{PB^2_h}(\\rho)$ for computing the posterior $\\rho(\\theta|D)$ and $\\rho_h(\\theta|D)$, respectively."
   ]
  },
  {
   "cell_type": "code",
   "execution_count": 5,
   "metadata": {},
   "outputs": [
    {
     "name": "stdout",
     "output_type": "stream",
     "text": [
      "WARNING:tensorflow:From /Users/andresmasegosa/Google Drive/papers/2019-denmark-pac-bayes/tfp0.7/lib/python3.6/site-packages/tensorflow/python/ops/math_ops.py:2403: add_dispatch_support.<locals>.wrapper (from tensorflow.python.ops.array_ops) is deprecated and will be removed in a future version.\nInstructions for updating:\nUse tf.where in 2.0, which has the same broadcast rule as np.where\n"
     ]
    }
   ],
   "source": [
    "probs = tf.math.softmax(tf.Variable(tf.ones([K], dtype=tf.float32), trainable=False, name='probs'))\n",
    "\n",
    "\n",
    "ensemble = tf.concat(t,1)\n",
    "logmax = tf.stop_gradient(tf.math.reduce_max(ensemble,axis=1))\n",
    "logmean = tf.stop_gradient(tf.math.reduce_logsumexp(ensemble+tf.reshape(tf.tile(tf.log(probs),[NSAMPLE]),[NSAMPLE,K]), axis=1) - tf.log(K + 0.0))\n",
    "varlist = []\n",
    "\n",
    "#####\n",
    "inc = logmean-logmax\n",
    "if (LEARNING_METHOD==3):\n",
    "    hmax = 2*tf.stop_gradient(inc/tf.math.pow(1-tf.math.exp(inc),2) + tf.math.pow(tf.math.exp(inc)*(1-tf.math.exp(inc)),-1))\n",
    "else:\n",
    "    hmax = 1.\n",
    "#####\n",
    "\n",
    "\n",
    "for i in range(K):\n",
    "    vari = 0.5*(tf.reduce_sum(tf.exp(2*ensemble[:,i]-2*logmax)*hmax,axis=0))\n",
    "    for j in range(K):\n",
    "        vari = vari - 0.5*tf.reduce_sum(tf.reduce_sum(tf.exp(ensemble[:,i] + ensemble[:,j] - 2*logmax)*hmax,axis=0))*probs[j]\n",
    "    varlist.append(vari)\n",
    "\n",
    "var=tf.stack(varlist,0)\n",
    "dataenergy = tf.reduce_sum(ensemble,axis=0)\n",
    "\n",
    "if (LEARNING_METHOD==2 or LEARNING_METHOD==3):\n",
    "    elboEnsemble = dataenergy + var\n",
    "else:\n",
    "    elboEnsemble = dataenergy\n",
    "    \n",
    "pacelbo = tf.reduce_sum(tf.math.multiply(elboEnsemble,probs))\n",
    "\n",
    "pacelbo = pacelbo - tf.reduce_sum(tf.math.multiply(probs,tf.log(probs)))\n"
   ]
  },
  {
   "cell_type": "markdown",
   "metadata": {},
   "source": [
    "## Optimizing the variational functionals\n",
    "\n",
    "We perform gradient-based optimization of the above objective. "
   ]
  },
  {
   "cell_type": "code",
   "execution_count": 6,
   "metadata": {},
   "outputs": [
    {
     "name": "stdout",
     "output_type": "stream",
     "text": [
      "\n0 epochs\t-188163.08"
     ]
    },
    {
     "name": "stdout",
     "output_type": "stream",
     "text": [
      "\n100 epochs\t-263108.62"
     ]
    },
    {
     "name": "stdout",
     "output_type": "stream",
     "text": [
      "\n200 epochs\t-262693.62"
     ]
    },
    {
     "name": "stdout",
     "output_type": "stream",
     "text": [
      "\n300 epochs\t-261908.56"
     ]
    },
    {
     "name": "stdout",
     "output_type": "stream",
     "text": [
      "\n400 epochs\t-259412.61"
     ]
    },
    {
     "name": "stdout",
     "output_type": "stream",
     "text": [
      "\n500 epochs\t-256990.42"
     ]
    },
    {
     "name": "stdout",
     "output_type": "stream",
     "text": [
      "\n600 epochs\t-256574.95"
     ]
    },
    {
     "name": "stdout",
     "output_type": "stream",
     "text": [
      "\n700 epochs\t-256404.05"
     ]
    },
    {
     "name": "stdout",
     "output_type": "stream",
     "text": [
      "\n800 epochs\t-257777.52"
     ]
    },
    {
     "name": "stdout",
     "output_type": "stream",
     "text": [
      "\n900 epochs\t-258531.67"
     ]
    },
    {
     "name": "stdout",
     "output_type": "stream",
     "text": [
      "\n1000 epochs\t-258912.75"
     ]
    },
    {
     "name": "stdout",
     "output_type": "stream",
     "text": [
      "\n1100 epochs\t-259058.42"
     ]
    },
    {
     "name": "stdout",
     "output_type": "stream",
     "text": [
      "\n1200 epochs\t-259108.36"
     ]
    },
    {
     "name": "stdout",
     "output_type": "stream",
     "text": [
      "\n1300 epochs\t-259239.5"
     ]
    },
    {
     "name": "stdout",
     "output_type": "stream",
     "text": [
      "\n1400 epochs\t-259247.3"
     ]
    },
    {
     "name": "stdout",
     "output_type": "stream",
     "text": [
      "\n1500 epochs\t-259275.72"
     ]
    },
    {
     "name": "stdout",
     "output_type": "stream",
     "text": [
      "\n1600 epochs\t-259259.1"
     ]
    },
    {
     "name": "stdout",
     "output_type": "stream",
     "text": [
      "\n1700 epochs\t-259017.45"
     ]
    },
    {
     "name": "stdout",
     "output_type": "stream",
     "text": [
      "\n1800 epochs\t-259165.52"
     ]
    },
    {
     "name": "stdout",
     "output_type": "stream",
     "text": [
      "\n1900 epochs\t-259110.64"
     ]
    },
    {
     "name": "stdout",
     "output_type": "stream",
     "text": [
      "\n2000 epochs\t-259159.92"
     ]
    },
    {
     "name": "stdout",
     "output_type": "stream",
     "text": [
      "\n2100 epochs\t-259086.14"
     ]
    },
    {
     "name": "stdout",
     "output_type": "stream",
     "text": [
      "\n2200 epochs\t-259076.3"
     ]
    },
    {
     "name": "stdout",
     "output_type": "stream",
     "text": [
      "\n2300 epochs\t-259034.2"
     ]
    },
    {
     "name": "stdout",
     "output_type": "stream",
     "text": [
      "\n2400 epochs\t-259037.33"
     ]
    },
    {
     "name": "stdout",
     "output_type": "stream",
     "text": [
      "\n2500 epochs\t-259011.77"
     ]
    },
    {
     "name": "stdout",
     "output_type": "stream",
     "text": [
      "\n2600 epochs\t-259038.75"
     ]
    },
    {
     "name": "stdout",
     "output_type": "stream",
     "text": [
      "\n2700 epochs\t-258953.08"
     ]
    },
    {
     "name": "stdout",
     "output_type": "stream",
     "text": [
      "\n2800 epochs\t-258948.11"
     ]
    },
    {
     "name": "stdout",
     "output_type": "stream",
     "text": [
      "\n2900 epochs\t-258944.5"
     ]
    },
    {
     "name": "stdout",
     "output_type": "stream",
     "text": [
      "\n3000 epochs\t-258950.58"
     ]
    }
   ],
   "source": [
    "num_epochs=3000\n",
    "verbose=True\n",
    "sess = tf.Session()\n",
    "t = []\n",
    "train =  tf.train.AdamOptimizer(0.01).minimize(-pacelbo)\n",
    "init = tf.global_variables_initializer()\n",
    "sess.run(init)\n",
    "\n",
    "for i in range(num_epochs+1):\n",
    "    t.append(-sess.run(pacelbo,feed_dict={x: x_train,y: y_train}))\n",
    "    sess.run(train,feed_dict={x: x_train,y: y_train})\n",
    "    if verbose:\n",
    "        if i % 100 == 0:\n",
    "            str_elbo = str(-t[-1])\n",
    "            print(\"\\n\" + str(i) + \" epochs\\t\" + str_elbo, end=\"\", flush=True)\n"
   ]
  },
  {
   "cell_type": "markdown",
   "metadata": {},
   "source": [
    "## Evaluating the learned model\n",
    "Once the model is learned, we evaluate how it makes predictions by ploting its associated epistemic and aleatoric uncertainty"
   ]
  },
  {
   "cell_type": "code",
   "execution_count": 7,
   "metadata": {},
   "outputs": [
    {
     "data": {
      "image/png": "[encoded data removed]",
      "text/plain": [
       "<Figure size 432x288 with 1 Axes>"
      ]
     },
     "metadata": {},
     "output_type": "display_data"
    }
   ],
   "source": [
    "NSAMPLETEST = 10000\n",
    "x_test = np.linspace(-10.5, 10.5, np.int(NSAMPLETEST/2)).reshape(-1, 1)\n",
    "r_test = np.float32(np.random.normal(size=(np.int(NSAMPLETEST/2),1),scale=VAR))\n",
    "y_test = np.float32(np.sin(0.75*x_test)*7.0+x_test*0.5+r_test*1.0)\n",
    "\n",
    "\n",
    "x_test2 = np.linspace(-10.5, 10.5, np.int(NSAMPLETEST/2)).reshape(-1, 1)\n",
    "r_test2 = np.float32(np.random.normal(size=(np.int(NSAMPLETEST/2),1),scale=VAR))\n",
    "y_test2 = -np.float32(np.sin(0.75*x_test2)*7.0+x_test2*0.5+r_test2*1.0)\n",
    "\n",
    "x_test2 = np.concatenate((x_test,x_test2))\n",
    "y_test2 = np.concatenate((y_test,y_test2))\n",
    "\n",
    "y_pred_list = []\n",
    "y_pred_noise = []\n",
    "\n",
    "for i in range(K):\n",
    "    [mean, noise] = sess.run([tpy[i].distribution.mean(), tpy[i]], feed_dict={x: x_test})\n",
    "    y_pred_list.append(mean)\n",
    "    y_pred_noise.append(noise)\n",
    "\n",
    "y_preds = np.concatenate(y_pred_list, axis=1)\n",
    "y_preds_noise = np.concatenate(y_pred_noise, axis=1)\n",
    "\n",
    "w = sess.run(probs)\n",
    "y_mean = np.average(y_preds, weights = w, axis=1)\n",
    "y_sigma = np.sqrt(np.average(np.power(y_preds,2), weights = w, axis=1) - y_mean**2)\n",
    "\n",
    "y_mean_noise = np.average(y_preds_noise, weights = w, axis=1)\n",
    "y_sigma_noise = np.sqrt(np.average(np.power(y_preds_noise,2), weights = w, axis=1) - y_mean_noise**2)\n",
    "\n",
    "plt.plot(x_test, y_mean.reshape(-1, 1), 'r-', label='Predictive mean');\n",
    "plt.scatter(x_train, y_train, marker='+', label='Training data')\n",
    "plt.fill_between(x_test.ravel(),\n",
    "                 y_mean + 2 * y_sigma_noise,\n",
    "                 y_mean - 2 * y_sigma_noise,\n",
    "                 alpha=0.5, label='Aleatory uncertainty')\n",
    "\n",
    "plt.fill_between(x_test.ravel(),\n",
    "                 y_mean + 2 * y_sigma,\n",
    "                 y_mean - 2 * y_sigma,\n",
    "                 alpha=0.5, label='Epistemic uncertainty')\n",
    "\n",
    "\n",
    "plt.ylabel('y')\n",
    "plt.xlabel('x')\n",
    "plt.ylim(-20,20)\n",
    "#plt.xticks(np.arange(-20., 20.5, 4))\n",
    "plt.xticks(np.arange(-10.5, 10.5, 4))\n",
    "plt.legend();\n",
    "\n",
    "\n",
    "dataname = 'Sindata'\n",
    "\n",
    "if (LEARNING_METHOD==3):\n",
    "    plt.title(r'PAC$^2_T$-Ensemble Posterior Predictive')\n",
    "elif (LEARNING_METHOD==2):\n",
    "    plt.title(r'PAC$^2$-Ensemble Posterior Predictive')\n",
    "else:\n",
    "    plt.title(r'(MAP)-Ensemble Posterior Predictive')\n",
    "\n",
    "plt.show()\n"
   ]
  },
  {
   "cell_type": "markdown",
   "metadata": {},
   "source": [
    "Let's have a look at the indivual models of the ensemble."
   ]
  },
  {
   "cell_type": "code",
   "execution_count": 8,
   "metadata": {},
   "outputs": [
    {
     "data": {
      "image/png": "[encoded data removed]",
      "text/plain": [
       "<Figure size 432x288 with 1 Axes>"
      ]
     },
     "metadata": {},
     "output_type": "display_data"
    }
   ],
   "source": [
    "\n",
    "#plt.figure(figsize=(8, 8))\n",
    "plt.plot(x_test, y_mean.reshape(-1, 1), 'r-', label='Predictive mean');\n",
    "plt.scatter(x_train, y_train, marker='+', label='Training data')\n",
    "\n",
    "for i in range(K):\n",
    "    plt.plot(x_test, y_preds[:,i], 'b-',label='Component-'+str(i));\n",
    "\n",
    "plt.ylabel('y')\n",
    "plt.xlabel('x')\n",
    "plt.ylim(-20,20)\n",
    "#plt.xticks(np.arange(-20., 20.5, 4))\n",
    "plt.xticks(np.arange(-10.5, 10.5, 4))\n",
    "plt.legend();\n",
    "\n",
    "if (LEARNING_METHOD==3):\n",
    "    plt.title(r'PAC$^2_T$-Ensemble Components')\n",
    "elif (LEARNING_METHOD==2):\n",
    "    plt.title(r'PAC$^2$-Ensemble Components')\n",
    "else:\n",
    "    plt.title(r'(MAP)-Ensemble Components')\n",
    "\n",
    "plt.show()\n"
   ]
  },
  {
   "cell_type": "markdown",
   "metadata": {},
   "source": [
    "We also compute the *log-likelihood of the predicitive posterior* over the independent test data set."
   ]
  },
  {
   "cell_type": "code",
   "execution_count": 9,
   "metadata": {},
   "outputs": [
    {
     "name": "stdout",
     "output_type": "stream",
     "text": [
      "\n Negative Log-likelihood of the posterior predictive : -40028.98\n"
     ]
    }
   ],
   "source": [
    "y_pred_list = []\n",
    "for i in range(K):\n",
    "    y_pred_list.append(tpy[i].distribution.log_prob(y_test2)+tf.log(probs[i]))\n",
    "\n",
    "y_preds = tf.concat(y_pred_list, axis=1)\n",
    "\n",
    "score = tf.reduce_sum(tf.math.reduce_logsumexp(y_preds,axis=1)-tf.log(K+0.0))\n",
    "\n",
    "score = sess.run(score,feed_dict={x: x_test2})\n",
    "\n",
    "print(\"\\n Negative Log-likelihood of the posterior predictive : \"+str(score))"
   ]
  },
  {
   "cell_type": "code",
   "execution_count": null,
   "metadata": {},
   "outputs": [],
   "source": []
  }
 ],
 "metadata": {
  "kernelspec": {
   "display_name": "Python 3",
   "language": "python",
   "name": "python3"
  },
  "language_info": {
   "codemirror_mode": {
    "name": "ipython",
    "version": 3
   },
   "file_extension": ".py",
   "mimetype": "text/x-python",
   "name": "python",
   "nbconvert_exporter": "python",
   "pygments_lexer": "ipython3",
   "version": "3.6.6"
  }
 },
 "nbformat": 4,
 "nbformat_minor": 2
}
